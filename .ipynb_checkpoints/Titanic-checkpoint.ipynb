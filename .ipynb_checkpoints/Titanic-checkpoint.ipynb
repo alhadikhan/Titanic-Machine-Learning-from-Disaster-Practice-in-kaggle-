{
 "cells": [
  {
   "cell_type": "code",
   "execution_count": 1,
   "id": "43963506",
   "metadata": {},
   "outputs": [],
   "source": [
    "import numpy as np\n",
    "import pandas as pd\n",
    "import matplotlib.pyplot as plt"
   ]
  },
  {
   "cell_type": "code",
   "execution_count": 2,
   "id": "00f6b6ba",
   "metadata": {},
   "outputs": [],
   "source": [
    "titanic_data=pd.read_csv('train.csv')"
   ]
  },
  {
   "cell_type": "code",
   "execution_count": 3,
   "id": "744947ea",
   "metadata": {},
   "outputs": [
    {
     "data": {
      "text/html": [
       "<div>\n",
       "<style scoped>\n",
       "    .dataframe tbody tr th:only-of-type {\n",
       "        vertical-align: middle;\n",
       "    }\n",
       "\n",
       "    .dataframe tbody tr th {\n",
       "        vertical-align: top;\n",
       "    }\n",
       "\n",
       "    .dataframe thead th {\n",
       "        text-align: right;\n",
       "    }\n",
       "</style>\n",
       "<table border=\"1\" class=\"dataframe\">\n",
       "  <thead>\n",
       "    <tr style=\"text-align: right;\">\n",
       "      <th></th>\n",
       "      <th>PassengerId</th>\n",
       "      <th>Survived</th>\n",
       "      <th>Pclass</th>\n",
       "      <th>Name</th>\n",
       "      <th>Sex</th>\n",
       "      <th>Age</th>\n",
       "      <th>SibSp</th>\n",
       "      <th>Parch</th>\n",
       "      <th>Ticket</th>\n",
       "      <th>Fare</th>\n",
       "      <th>Cabin</th>\n",
       "      <th>Embarked</th>\n",
       "    </tr>\n",
       "  </thead>\n",
       "  <tbody>\n",
       "    <tr>\n",
       "      <th>0</th>\n",
       "      <td>1</td>\n",
       "      <td>0</td>\n",
       "      <td>3</td>\n",
       "      <td>Braund, Mr. Owen Harris</td>\n",
       "      <td>male</td>\n",
       "      <td>22.0</td>\n",
       "      <td>1</td>\n",
       "      <td>0</td>\n",
       "      <td>A/5 21171</td>\n",
       "      <td>7.2500</td>\n",
       "      <td>NaN</td>\n",
       "      <td>S</td>\n",
       "    </tr>\n",
       "    <tr>\n",
       "      <th>1</th>\n",
       "      <td>2</td>\n",
       "      <td>1</td>\n",
       "      <td>1</td>\n",
       "      <td>Cumings, Mrs. John Bradley (Florence Briggs Th...</td>\n",
       "      <td>female</td>\n",
       "      <td>38.0</td>\n",
       "      <td>1</td>\n",
       "      <td>0</td>\n",
       "      <td>PC 17599</td>\n",
       "      <td>71.2833</td>\n",
       "      <td>C85</td>\n",
       "      <td>C</td>\n",
       "    </tr>\n",
       "    <tr>\n",
       "      <th>2</th>\n",
       "      <td>3</td>\n",
       "      <td>1</td>\n",
       "      <td>3</td>\n",
       "      <td>Heikkinen, Miss. Laina</td>\n",
       "      <td>female</td>\n",
       "      <td>26.0</td>\n",
       "      <td>0</td>\n",
       "      <td>0</td>\n",
       "      <td>STON/O2. 3101282</td>\n",
       "      <td>7.9250</td>\n",
       "      <td>NaN</td>\n",
       "      <td>S</td>\n",
       "    </tr>\n",
       "    <tr>\n",
       "      <th>3</th>\n",
       "      <td>4</td>\n",
       "      <td>1</td>\n",
       "      <td>1</td>\n",
       "      <td>Futrelle, Mrs. Jacques Heath (Lily May Peel)</td>\n",
       "      <td>female</td>\n",
       "      <td>35.0</td>\n",
       "      <td>1</td>\n",
       "      <td>0</td>\n",
       "      <td>113803</td>\n",
       "      <td>53.1000</td>\n",
       "      <td>C123</td>\n",
       "      <td>S</td>\n",
       "    </tr>\n",
       "    <tr>\n",
       "      <th>4</th>\n",
       "      <td>5</td>\n",
       "      <td>0</td>\n",
       "      <td>3</td>\n",
       "      <td>Allen, Mr. William Henry</td>\n",
       "      <td>male</td>\n",
       "      <td>35.0</td>\n",
       "      <td>0</td>\n",
       "      <td>0</td>\n",
       "      <td>373450</td>\n",
       "      <td>8.0500</td>\n",
       "      <td>NaN</td>\n",
       "      <td>S</td>\n",
       "    </tr>\n",
       "  </tbody>\n",
       "</table>\n",
       "</div>"
      ],
      "text/plain": [
       "   PassengerId  Survived  Pclass  \\\n",
       "0            1         0       3   \n",
       "1            2         1       1   \n",
       "2            3         1       3   \n",
       "3            4         1       1   \n",
       "4            5         0       3   \n",
       "\n",
       "                                                Name     Sex   Age  SibSp  \\\n",
       "0                            Braund, Mr. Owen Harris    male  22.0      1   \n",
       "1  Cumings, Mrs. John Bradley (Florence Briggs Th...  female  38.0      1   \n",
       "2                             Heikkinen, Miss. Laina  female  26.0      0   \n",
       "3       Futrelle, Mrs. Jacques Heath (Lily May Peel)  female  35.0      1   \n",
       "4                           Allen, Mr. William Henry    male  35.0      0   \n",
       "\n",
       "   Parch            Ticket     Fare Cabin Embarked  \n",
       "0      0         A/5 21171   7.2500   NaN        S  \n",
       "1      0          PC 17599  71.2833   C85        C  \n",
       "2      0  STON/O2. 3101282   7.9250   NaN        S  \n",
       "3      0            113803  53.1000  C123        S  \n",
       "4      0            373450   8.0500   NaN        S  "
      ]
     },
     "execution_count": 3,
     "metadata": {},
     "output_type": "execute_result"
    }
   ],
   "source": [
    "titanic_data.head()"
   ]
  },
  {
   "cell_type": "code",
   "execution_count": 4,
   "id": "0137ffd6",
   "metadata": {},
   "outputs": [
    {
     "data": {
      "text/html": [
       "<div>\n",
       "<style scoped>\n",
       "    .dataframe tbody tr th:only-of-type {\n",
       "        vertical-align: middle;\n",
       "    }\n",
       "\n",
       "    .dataframe tbody tr th {\n",
       "        vertical-align: top;\n",
       "    }\n",
       "\n",
       "    .dataframe thead th {\n",
       "        text-align: right;\n",
       "    }\n",
       "</style>\n",
       "<table border=\"1\" class=\"dataframe\">\n",
       "  <thead>\n",
       "    <tr style=\"text-align: right;\">\n",
       "      <th></th>\n",
       "      <th>PassengerId</th>\n",
       "      <th>Survived</th>\n",
       "      <th>Pclass</th>\n",
       "      <th>Age</th>\n",
       "      <th>SibSp</th>\n",
       "      <th>Parch</th>\n",
       "      <th>Fare</th>\n",
       "    </tr>\n",
       "  </thead>\n",
       "  <tbody>\n",
       "    <tr>\n",
       "      <th>count</th>\n",
       "      <td>891.000000</td>\n",
       "      <td>891.000000</td>\n",
       "      <td>891.000000</td>\n",
       "      <td>714.000000</td>\n",
       "      <td>891.000000</td>\n",
       "      <td>891.000000</td>\n",
       "      <td>891.000000</td>\n",
       "    </tr>\n",
       "    <tr>\n",
       "      <th>mean</th>\n",
       "      <td>446.000000</td>\n",
       "      <td>0.383838</td>\n",
       "      <td>2.308642</td>\n",
       "      <td>29.699118</td>\n",
       "      <td>0.523008</td>\n",
       "      <td>0.381594</td>\n",
       "      <td>32.204208</td>\n",
       "    </tr>\n",
       "    <tr>\n",
       "      <th>std</th>\n",
       "      <td>257.353842</td>\n",
       "      <td>0.486592</td>\n",
       "      <td>0.836071</td>\n",
       "      <td>14.526497</td>\n",
       "      <td>1.102743</td>\n",
       "      <td>0.806057</td>\n",
       "      <td>49.693429</td>\n",
       "    </tr>\n",
       "    <tr>\n",
       "      <th>min</th>\n",
       "      <td>1.000000</td>\n",
       "      <td>0.000000</td>\n",
       "      <td>1.000000</td>\n",
       "      <td>0.420000</td>\n",
       "      <td>0.000000</td>\n",
       "      <td>0.000000</td>\n",
       "      <td>0.000000</td>\n",
       "    </tr>\n",
       "    <tr>\n",
       "      <th>25%</th>\n",
       "      <td>223.500000</td>\n",
       "      <td>0.000000</td>\n",
       "      <td>2.000000</td>\n",
       "      <td>20.125000</td>\n",
       "      <td>0.000000</td>\n",
       "      <td>0.000000</td>\n",
       "      <td>7.910400</td>\n",
       "    </tr>\n",
       "    <tr>\n",
       "      <th>50%</th>\n",
       "      <td>446.000000</td>\n",
       "      <td>0.000000</td>\n",
       "      <td>3.000000</td>\n",
       "      <td>28.000000</td>\n",
       "      <td>0.000000</td>\n",
       "      <td>0.000000</td>\n",
       "      <td>14.454200</td>\n",
       "    </tr>\n",
       "    <tr>\n",
       "      <th>75%</th>\n",
       "      <td>668.500000</td>\n",
       "      <td>1.000000</td>\n",
       "      <td>3.000000</td>\n",
       "      <td>38.000000</td>\n",
       "      <td>1.000000</td>\n",
       "      <td>0.000000</td>\n",
       "      <td>31.000000</td>\n",
       "    </tr>\n",
       "    <tr>\n",
       "      <th>max</th>\n",
       "      <td>891.000000</td>\n",
       "      <td>1.000000</td>\n",
       "      <td>3.000000</td>\n",
       "      <td>80.000000</td>\n",
       "      <td>8.000000</td>\n",
       "      <td>6.000000</td>\n",
       "      <td>512.329200</td>\n",
       "    </tr>\n",
       "  </tbody>\n",
       "</table>\n",
       "</div>"
      ],
      "text/plain": [
       "       PassengerId    Survived      Pclass         Age       SibSp  \\\n",
       "count   891.000000  891.000000  891.000000  714.000000  891.000000   \n",
       "mean    446.000000    0.383838    2.308642   29.699118    0.523008   \n",
       "std     257.353842    0.486592    0.836071   14.526497    1.102743   \n",
       "min       1.000000    0.000000    1.000000    0.420000    0.000000   \n",
       "25%     223.500000    0.000000    2.000000   20.125000    0.000000   \n",
       "50%     446.000000    0.000000    3.000000   28.000000    0.000000   \n",
       "75%     668.500000    1.000000    3.000000   38.000000    1.000000   \n",
       "max     891.000000    1.000000    3.000000   80.000000    8.000000   \n",
       "\n",
       "            Parch        Fare  \n",
       "count  891.000000  891.000000  \n",
       "mean     0.381594   32.204208  \n",
       "std      0.806057   49.693429  \n",
       "min      0.000000    0.000000  \n",
       "25%      0.000000    7.910400  \n",
       "50%      0.000000   14.454200  \n",
       "75%      0.000000   31.000000  \n",
       "max      6.000000  512.329200  "
      ]
     },
     "execution_count": 4,
     "metadata": {},
     "output_type": "execute_result"
    }
   ],
   "source": [
    "titanic_data.describe()"
   ]
  },
  {
   "cell_type": "code",
   "execution_count": 5,
   "id": "e9013127",
   "metadata": {},
   "outputs": [
    {
     "name": "stdout",
     "output_type": "stream",
     "text": [
      "<class 'pandas.core.frame.DataFrame'>\n",
      "RangeIndex: 891 entries, 0 to 890\n",
      "Data columns (total 12 columns):\n",
      " #   Column       Non-Null Count  Dtype  \n",
      "---  ------       --------------  -----  \n",
      " 0   PassengerId  891 non-null    int64  \n",
      " 1   Survived     891 non-null    int64  \n",
      " 2   Pclass       891 non-null    int64  \n",
      " 3   Name         891 non-null    object \n",
      " 4   Sex          891 non-null    object \n",
      " 5   Age          714 non-null    float64\n",
      " 6   SibSp        891 non-null    int64  \n",
      " 7   Parch        891 non-null    int64  \n",
      " 8   Ticket       891 non-null    object \n",
      " 9   Fare         891 non-null    float64\n",
      " 10  Cabin        204 non-null    object \n",
      " 11  Embarked     889 non-null    object \n",
      "dtypes: float64(2), int64(5), object(5)\n",
      "memory usage: 83.7+ KB\n"
     ]
    }
   ],
   "source": [
    "titanic_data.info()"
   ]
  },
  {
   "cell_type": "code",
   "execution_count": 6,
   "id": "07ec6374",
   "metadata": {},
   "outputs": [],
   "source": [
    "import seaborn as sns"
   ]
  },
  {
   "cell_type": "code",
   "execution_count": 7,
   "id": "4cd78376",
   "metadata": {},
   "outputs": [
    {
     "data": {
      "image/png": "[encoded data removed]",
      "text/plain": [
       "<Figure size 432x288 with 2 Axes>"
      ]
     },
     "metadata": {
      "needs_background": "light"
     },
     "output_type": "display_data"
    }
   ],
   "source": [
    "sns.heatmap(titanic_data.corr(), cmap=\"YlGn\")\n",
    "plt.show()"
   ]
  },
  {
   "cell_type": "code",
   "execution_count": 8,
   "id": "d8286585",
   "metadata": {},
   "outputs": [],
   "source": [
    "from sklearn.model_selection import StratifiedShuffleSplit\n",
    "split = StratifiedShuffleSplit(n_splits=1, test_size=0.2)\n",
    "\n",
    "for train_indices, test_indices in split.split(titanic_data,titanic_data[[\"Survived\",\"Pclass\",\"Sex\"]]):\n",
    "    strat_train_set = titanic_data.loc[train_indices]\n",
    "    strat_test_set = titanic_data.loc[test_indices]"
   ]
  },
  {
   "cell_type": "code",
   "execution_count": 9,
   "id": "61e1ced5",
   "metadata": {},
   "outputs": [
    {
     "data": {
      "text/html": [
       "<div>\n",
       "<style scoped>\n",
       "    .dataframe tbody tr th:only-of-type {\n",
       "        vertical-align: middle;\n",
       "    }\n",
       "\n",
       "    .dataframe tbody tr th {\n",
       "        vertical-align: top;\n",
       "    }\n",
       "\n",
       "    .dataframe thead th {\n",
       "        text-align: right;\n",
       "    }\n",
       "</style>\n",
       "<table border=\"1\" class=\"dataframe\">\n",
       "  <thead>\n",
       "    <tr style=\"text-align: right;\">\n",
       "      <th></th>\n",
       "      <th>PassengerId</th>\n",
       "      <th>Survived</th>\n",
       "      <th>Pclass</th>\n",
       "      <th>Name</th>\n",
       "      <th>Sex</th>\n",
       "      <th>Age</th>\n",
       "      <th>SibSp</th>\n",
       "      <th>Parch</th>\n",
       "      <th>Ticket</th>\n",
       "      <th>Fare</th>\n",
       "      <th>Cabin</th>\n",
       "      <th>Embarked</th>\n",
       "    </tr>\n",
       "  </thead>\n",
       "  <tbody>\n",
       "    <tr>\n",
       "      <th>380</th>\n",
       "      <td>381</td>\n",
       "      <td>1</td>\n",
       "      <td>1</td>\n",
       "      <td>Bidois, Miss. Rosalie</td>\n",
       "      <td>female</td>\n",
       "      <td>42.0</td>\n",
       "      <td>0</td>\n",
       "      <td>0</td>\n",
       "      <td>PC 17757</td>\n",
       "      <td>227.5250</td>\n",
       "      <td>NaN</td>\n",
       "      <td>C</td>\n",
       "    </tr>\n",
       "    <tr>\n",
       "      <th>516</th>\n",
       "      <td>517</td>\n",
       "      <td>1</td>\n",
       "      <td>2</td>\n",
       "      <td>Lemore, Mrs. (Amelia Milley)</td>\n",
       "      <td>female</td>\n",
       "      <td>34.0</td>\n",
       "      <td>0</td>\n",
       "      <td>0</td>\n",
       "      <td>C.A. 34260</td>\n",
       "      <td>10.5000</td>\n",
       "      <td>F33</td>\n",
       "      <td>S</td>\n",
       "    </tr>\n",
       "    <tr>\n",
       "      <th>590</th>\n",
       "      <td>591</td>\n",
       "      <td>0</td>\n",
       "      <td>3</td>\n",
       "      <td>Rintamaki, Mr. Matti</td>\n",
       "      <td>male</td>\n",
       "      <td>35.0</td>\n",
       "      <td>0</td>\n",
       "      <td>0</td>\n",
       "      <td>STON/O 2. 3101273</td>\n",
       "      <td>7.1250</td>\n",
       "      <td>NaN</td>\n",
       "      <td>S</td>\n",
       "    </tr>\n",
       "    <tr>\n",
       "      <th>241</th>\n",
       "      <td>242</td>\n",
       "      <td>1</td>\n",
       "      <td>3</td>\n",
       "      <td>Murphy, Miss. Katherine \"Kate\"</td>\n",
       "      <td>female</td>\n",
       "      <td>NaN</td>\n",
       "      <td>1</td>\n",
       "      <td>0</td>\n",
       "      <td>367230</td>\n",
       "      <td>15.5000</td>\n",
       "      <td>NaN</td>\n",
       "      <td>Q</td>\n",
       "    </tr>\n",
       "    <tr>\n",
       "      <th>133</th>\n",
       "      <td>134</td>\n",
       "      <td>1</td>\n",
       "      <td>2</td>\n",
       "      <td>Weisz, Mrs. Leopold (Mathilde Francoise Pede)</td>\n",
       "      <td>female</td>\n",
       "      <td>29.0</td>\n",
       "      <td>1</td>\n",
       "      <td>0</td>\n",
       "      <td>228414</td>\n",
       "      <td>26.0000</td>\n",
       "      <td>NaN</td>\n",
       "      <td>S</td>\n",
       "    </tr>\n",
       "    <tr>\n",
       "      <th>...</th>\n",
       "      <td>...</td>\n",
       "      <td>...</td>\n",
       "      <td>...</td>\n",
       "      <td>...</td>\n",
       "      <td>...</td>\n",
       "      <td>...</td>\n",
       "      <td>...</td>\n",
       "      <td>...</td>\n",
       "      <td>...</td>\n",
       "      <td>...</td>\n",
       "      <td>...</td>\n",
       "      <td>...</td>\n",
       "    </tr>\n",
       "    <tr>\n",
       "      <th>247</th>\n",
       "      <td>248</td>\n",
       "      <td>1</td>\n",
       "      <td>2</td>\n",
       "      <td>Hamalainen, Mrs. William (Anna)</td>\n",
       "      <td>female</td>\n",
       "      <td>24.0</td>\n",
       "      <td>0</td>\n",
       "      <td>2</td>\n",
       "      <td>250649</td>\n",
       "      <td>14.5000</td>\n",
       "      <td>NaN</td>\n",
       "      <td>S</td>\n",
       "    </tr>\n",
       "    <tr>\n",
       "      <th>322</th>\n",
       "      <td>323</td>\n",
       "      <td>1</td>\n",
       "      <td>2</td>\n",
       "      <td>Slayter, Miss. Hilda Mary</td>\n",
       "      <td>female</td>\n",
       "      <td>30.0</td>\n",
       "      <td>0</td>\n",
       "      <td>0</td>\n",
       "      <td>234818</td>\n",
       "      <td>12.3500</td>\n",
       "      <td>NaN</td>\n",
       "      <td>Q</td>\n",
       "    </tr>\n",
       "    <tr>\n",
       "      <th>648</th>\n",
       "      <td>649</td>\n",
       "      <td>0</td>\n",
       "      <td>3</td>\n",
       "      <td>Willey, Mr. Edward</td>\n",
       "      <td>male</td>\n",
       "      <td>NaN</td>\n",
       "      <td>0</td>\n",
       "      <td>0</td>\n",
       "      <td>S.O./P.P. 751</td>\n",
       "      <td>7.5500</td>\n",
       "      <td>NaN</td>\n",
       "      <td>S</td>\n",
       "    </tr>\n",
       "    <tr>\n",
       "      <th>561</th>\n",
       "      <td>562</td>\n",
       "      <td>0</td>\n",
       "      <td>3</td>\n",
       "      <td>Sivic, Mr. Husein</td>\n",
       "      <td>male</td>\n",
       "      <td>40.0</td>\n",
       "      <td>0</td>\n",
       "      <td>0</td>\n",
       "      <td>349251</td>\n",
       "      <td>7.8958</td>\n",
       "      <td>NaN</td>\n",
       "      <td>S</td>\n",
       "    </tr>\n",
       "    <tr>\n",
       "      <th>82</th>\n",
       "      <td>83</td>\n",
       "      <td>1</td>\n",
       "      <td>3</td>\n",
       "      <td>McDermott, Miss. Brigdet Delia</td>\n",
       "      <td>female</td>\n",
       "      <td>NaN</td>\n",
       "      <td>0</td>\n",
       "      <td>0</td>\n",
       "      <td>330932</td>\n",
       "      <td>7.7875</td>\n",
       "      <td>NaN</td>\n",
       "      <td>Q</td>\n",
       "    </tr>\n",
       "  </tbody>\n",
       "</table>\n",
       "<p>712 rows × 12 columns</p>\n",
       "</div>"
      ],
      "text/plain": [
       "     PassengerId  Survived  Pclass  \\\n",
       "380          381         1       1   \n",
       "516          517         1       2   \n",
       "590          591         0       3   \n",
       "241          242         1       3   \n",
       "133          134         1       2   \n",
       "..           ...       ...     ...   \n",
       "247          248         1       2   \n",
       "322          323         1       2   \n",
       "648          649         0       3   \n",
       "561          562         0       3   \n",
       "82            83         1       3   \n",
       "\n",
       "                                              Name     Sex   Age  SibSp  \\\n",
       "380                          Bidois, Miss. Rosalie  female  42.0      0   \n",
       "516                   Lemore, Mrs. (Amelia Milley)  female  34.0      0   \n",
       "590                           Rintamaki, Mr. Matti    male  35.0      0   \n",
       "241                 Murphy, Miss. Katherine \"Kate\"  female   NaN      1   \n",
       "133  Weisz, Mrs. Leopold (Mathilde Francoise Pede)  female  29.0      1   \n",
       "..                                             ...     ...   ...    ...   \n",
       "247                Hamalainen, Mrs. William (Anna)  female  24.0      0   \n",
       "322                      Slayter, Miss. Hilda Mary  female  30.0      0   \n",
       "648                             Willey, Mr. Edward    male   NaN      0   \n",
       "561                              Sivic, Mr. Husein    male  40.0      0   \n",
       "82                  McDermott, Miss. Brigdet Delia  female   NaN      0   \n",
       "\n",
       "     Parch             Ticket      Fare Cabin Embarked  \n",
       "380      0           PC 17757  227.5250   NaN        C  \n",
       "516      0         C.A. 34260   10.5000   F33        S  \n",
       "590      0  STON/O 2. 3101273    7.1250   NaN        S  \n",
       "241      0             367230   15.5000   NaN        Q  \n",
       "133      0             228414   26.0000   NaN        S  \n",
       "..     ...                ...       ...   ...      ...  \n",
       "247      2             250649   14.5000   NaN        S  \n",
       "322      0             234818   12.3500   NaN        Q  \n",
       "648      0      S.O./P.P. 751    7.5500   NaN        S  \n",
       "561      0             349251    7.8958   NaN        S  \n",
       "82       0             330932    7.7875   NaN        Q  \n",
       "\n",
       "[712 rows x 12 columns]"
      ]
     },
     "execution_count": 9,
     "metadata": {},
     "output_type": "execute_result"
    }
   ],
   "source": [
    "   strat_train_set"
   ]
  },
  {
   "cell_type": "code",
   "execution_count": 10,
   "id": "c155309a",
   "metadata": {},
   "outputs": [
    {
     "data": {
      "image/png": "[encoded data removed]",
      "text/plain": [
       "<Figure size 432x288 with 2 Axes>"
      ]
     },
     "metadata": {
      "needs_background": "light"
     },
     "output_type": "display_data"
    }
   ],
   "source": [
    "plt.subplot(1,2,1)\n",
    "strat_train_set['Survived'].hist()\n",
    "strat_train_set['Pclass'].hist()\n",
    "\n",
    "plt.subplot(1,2,2)\n",
    "strat_test_set['Survived'].hist()\n",
    "strat_test_set['Pclass'].hist()\n",
    "\n",
    "plt.show()"
   ]
  },
  {
   "cell_type": "code",
   "execution_count": 11,
   "id": "fcef014b-0307-4d18-b326-ec8ab0162388",
   "metadata": {},
   "outputs": [
    {
     "name": "stdout",
     "output_type": "stream",
     "text": [
      "<class 'pandas.core.frame.DataFrame'>\n",
      "Int64Index: 712 entries, 380 to 82\n",
      "Data columns (total 12 columns):\n",
      " #   Column       Non-Null Count  Dtype  \n",
      "---  ------       --------------  -----  \n",
      " 0   PassengerId  712 non-null    int64  \n",
      " 1   Survived     712 non-null    int64  \n",
      " 2   Pclass       712 non-null    int64  \n",
      " 3   Name         712 non-null    object \n",
      " 4   Sex          712 non-null    object \n",
      " 5   Age          581 non-null    float64\n",
      " 6   SibSp        712 non-null    int64  \n",
      " 7   Parch        712 non-null    int64  \n",
      " 8   Ticket       712 non-null    object \n",
      " 9   Fare         712 non-null    float64\n",
      " 10  Cabin        165 non-null    object \n",
      " 11  Embarked     710 non-null    object \n",
      "dtypes: float64(2), int64(5), object(5)\n",
      "memory usage: 72.3+ KB\n"
     ]
    }
   ],
   "source": [
    "strat_train_set.info()"
   ]
  },
  {
   "cell_type": "code",
   "execution_count": 12,
   "id": "786b580a-ed46-4bf2-8a4f-fb78333104fa",
   "metadata": {},
   "outputs": [],
   "source": [
    "from sklearn.base import BaseEstimator,TransformerMixin\n",
    "from sklearn.impute import SimpleImputer\n",
    "class AgeImputer(BaseEstimator, TransformerMixin):\n",
    "    def fit(self,X,y=None):\n",
    "        return self\n",
    "    def transform(self,X):\n",
    "        imputer=SimpleImputer(strategy=\"mean\")\n",
    "        X['Age']=imputer.fit_transform(X[['Age']])\n",
    "        return X\n"
   ]
  },
  {
   "cell_type": "code",
   "execution_count": 13,
   "id": "f6a1044e-b858-419b-b38e-d6182f6451d4",
   "metadata": {},
   "outputs": [],
   "source": [
    "from sklearn.preprocessing import OneHotEncoder\n",
    "class FeatureEncoder(BaseEstimator,TransformerMixin):\n",
    "    def fit(self,X,y=None):\n",
    "        return self\n",
    "    def transform(self,X):\n",
    "        encoder=OneHotEncoder()\n",
    "        matrix=encoder.fit_transform(X[['Embarked']]).toarray()\n",
    "        column_names=[\"C\",\"S\",\"Q\",\"N\"]\n",
    "        for i in range (len(matrix.T)):\n",
    "            X[column_names[i]]=matrix.T[i]\n",
    "        matrix=encoder.fit_transform(X[['Sex']]).toarray()\n",
    "        column_names=[\"Female\",\"Male\"]\n",
    "        for i in range (len(matrix.T)):\n",
    "            X[column_names[i]]=matrix.T[i]\n",
    "        return X  "
   ]
  },
  {
   "cell_type": "code",
   "execution_count": 14,
   "id": "9dcac75d-1250-45b4-ab0c-c716cc10df39",
   "metadata": {},
   "outputs": [],
   "source": [
    "class FeatureDropper(BaseEstimator,TransformerMixin):\n",
    "    def fit(self,X,y=None):\n",
    "        return self\n",
    "    def transform(self,X):\n",
    "        return X.drop([\"Embarked\",\"Name\",\"Ticket\",\"Cabin\",\"Sex\",\"N\"],axis=1,errors=\"ignore\")"
   ]
  },
  {
   "cell_type": "code",
   "execution_count": 15,
   "id": "4607bbc0-6aa0-49d8-9440-3f291dcfd478",
   "metadata": {},
   "outputs": [],
   "source": [
    "from sklearn.pipeline import Pipeline\n",
    "pipeline=Pipeline([(\"ageimputer\",AgeImputer()),\n",
    "                   (\"featureencoder\",FeatureEncoder()),\n",
    "                   (\"featuredropper\",FeatureDropper())])\n",
    "                  "
   ]
  },
  {
   "cell_type": "code",
   "execution_count": 16,
   "id": "3299f9e9-5952-4aa5-94c6-6a61ca32b388",
   "metadata": {
    "scrolled": true
   },
   "outputs": [],
   "source": [
    "strat_train_set=pipeline.fit_transform(strat_train_set)"
   ]
  },
  {
   "cell_type": "code",
   "execution_count": 18,
   "id": "04f986e2-4655-4aae-a2c7-3ce0a07c4315",
   "metadata": {},
   "outputs": [
    {
     "name": "stdout",
     "output_type": "stream",
     "text": [
      "<class 'pandas.core.frame.DataFrame'>\n",
      "Int64Index: 712 entries, 380 to 82\n",
      "Data columns (total 12 columns):\n",
      " #   Column       Non-Null Count  Dtype  \n",
      "---  ------       --------------  -----  \n",
      " 0   PassengerId  712 non-null    int64  \n",
      " 1   Survived     712 non-null    int64  \n",
      " 2   Pclass       712 non-null    int64  \n",
      " 3   Age          712 non-null    float64\n",
      " 4   SibSp        712 non-null    int64  \n",
      " 5   Parch        712 non-null    int64  \n",
      " 6   Fare         712 non-null    float64\n",
      " 7   C            712 non-null    float64\n",
      " 8   S            712 non-null    float64\n",
      " 9   Q            712 non-null    float64\n",
      " 10  Female       712 non-null    float64\n",
      " 11  Male         712 non-null    float64\n",
      "dtypes: float64(7), int64(5)\n",
      "memory usage: 72.3 KB\n"
     ]
    }
   ],
   "source": [
    "strat_train_set.info()"
   ]
  },
  {
   "cell_type": "code",
   "execution_count": 23,
   "id": "bf1745c5-a80d-4912-95c9-9147fe259b90",
   "metadata": {},
   "outputs": [],
   "source": [
    "from sklearn.preprocessing import StandardScaler\n",
    "x=strat_train_set.drop(['Survived'],axis=1)\n",
    "y=strat_train_set['Survived']\n",
    "scaler=StandardScaler()\n",
    "x_data=scaler.fit_transform(X)\n",
    "y_data=y.to_numpy()"
   ]
  },
  {
   "cell_type": "code",
   "execution_count": 24,
   "id": "c34a4f3c-2b12-4c10-a079-0259de158141",
   "metadata": {},
   "outputs": [
    {
     "data": {
      "text/plain": [
       "array([[-0.26366864, -1.56828591,  0.91934188, ..., -1.65751875,\n",
       "         1.35941164, -1.35941164],\n",
       "       [ 0.27171891, -0.37019624,  0.31452882, ...,  0.60331142,\n",
       "         1.35941164, -1.35941164],\n",
       "       [ 0.56303273,  0.82789342,  0.39013045, ...,  0.60331142,\n",
       "        -0.73561236,  0.73561236],\n",
       "       ...,\n",
       "       [ 0.79135977,  0.82789342,  0.        , ...,  0.60331142,\n",
       "        -0.73561236,  0.73561236],\n",
       "       [ 0.4488692 ,  0.82789342,  0.76813862, ...,  0.60331142,\n",
       "        -0.73561236,  0.73561236],\n",
       "       [-1.43679724,  0.82789342,  0.        , ..., -1.65751875,\n",
       "         1.35941164, -1.35941164]])"
      ]
     },
     "execution_count": 24,
     "metadata": {},
     "output_type": "execute_result"
    }
   ],
   "source": [
    "x_data"
   ]
  },
  {
   "cell_type": "code",
   "execution_count": 27,
   "id": "7b5318d2-3098-4656-95c4-58fd163eb5ec",
   "metadata": {},
   "outputs": [
    {
     "data": {
      "text/plain": [
       "GridSearchCV(cv=3, estimator=RandomForestClassifier(),\n",
       "             param_grid=[{'max_depth': [None, 5, 10],\n",
       "                          'min_samples_split': [2, 3, 4],\n",
       "                          'n_estimators': [10, 100, 200, 500]}],\n",
       "             return_train_score=True, scoring='accuracy')"
      ]
     },
     "execution_count": 27,
     "metadata": {},
     "output_type": "execute_result"
    }
   ],
   "source": [
    "from sklearn.ensemble import RandomForestClassifier\n",
    "from sklearn.model_selection import GridSearchCV\n",
    "clf=RandomForestClassifier()\n",
    "param_grid=[\n",
    "    {\"n_estimators\":[10,100,200,500],\"max_depth\":[None,5,10],\"min_samples_split\":[2,3,4]}\n",
    "]\n",
    "grid_search=GridSearchCV(clf,param_grid,cv=3,scoring=\"accuracy\",return_train_score=True)\n",
    "grid_search.fit(x_data,y_data)"
   ]
  },
  {
   "cell_type": "code",
   "execution_count": 28,
   "id": "a04f9f5b-d6ba-4b82-ad2c-6c1981cedfc3",
   "metadata": {},
   "outputs": [],
   "source": [
    "final_clf=grid_search.best_estimator_"
   ]
  },
  {
   "cell_type": "code",
   "execution_count": 29,
   "id": "a51ce137-9f86-4725-b634-5658b7e4a41d",
   "metadata": {},
   "outputs": [
    {
     "data": {
      "text/plain": [
       "RandomForestClassifier(max_depth=10, min_samples_split=4, n_estimators=500)"
      ]
     },
     "execution_count": 29,
     "metadata": {},
     "output_type": "execute_result"
    }
   ],
   "source": [
    "final_clf"
   ]
  },
  {
   "cell_type": "code",
   "execution_count": 30,
   "id": "39c0bfc6-4c08-4a10-89ef-fb38eeb113f4",
   "metadata": {},
   "outputs": [],
   "source": [
    "strat_test_set=pipeline.fit_transform(strat_test_set)"
   ]
  },
  {
   "cell_type": "code",
   "execution_count": 31,
   "id": "e5ff9a68-01c4-452e-a6be-4fdf0235c626",
   "metadata": {},
   "outputs": [],
   "source": [
    "x_test=strat_test_set.drop(['Survived'],axis=1)\n",
    "y_test=strat_test_set['Survived']\n",
    "scaler=StandardScaler()\n",
    "x_data_test=scaler.fit_transform(x_test)\n",
    "y_data_test=y_test.to_numpy()"
   ]
  },
  {
   "cell_type": "code",
   "execution_count": 32,
   "id": "8fbcfe7c-0cf0-4c30-8dd6-2d140f5d9d1f",
   "metadata": {},
   "outputs": [
    {
     "data": {
      "text/plain": [
       "0.8044692737430168"
      ]
     },
     "execution_count": 32,
     "metadata": {},
     "output_type": "execute_result"
    }
   ],
   "source": [
    "final_clf.score(x_data_test,y_data_test)"
   ]
  },
  {
   "cell_type": "code",
   "execution_count": 35,
   "id": "a70e7f8b-ecfa-4e7c-b322-fb18ec417aa9",
   "metadata": {},
   "outputs": [],
   "source": [
    "final_data=pipeline.fit_transform(titanic_data)"
   ]
  },
  {
   "cell_type": "code",
   "execution_count": 36,
   "id": "f5ee4421-c72c-4475-9604-5786fe04fb2b",
   "metadata": {},
   "outputs": [],
   "source": [
    "x_final=final_data.drop(['Survived'],axis=1)\n",
    "y_final=final_data['Survived']\n",
    "scaler=StandardScaler()\n",
    "x_data_final=scaler.fit_transform(x_final)\n",
    "y_data_final=y_final.to_numpy()"
   ]
  },
  {
   "cell_type": "code",
   "execution_count": 66,
   "id": "ecf59ecf-5e64-42e6-9bf3-61da1187164b",
   "metadata": {},
   "outputs": [
    {
     "data": {
      "text/plain": [
       "GridSearchCV(cv=5, estimator=RandomForestClassifier(),\n",
       "             param_grid=[{'bootstrap': [True, False],\n",
       "                          'max_depth': [None, 5, 10, 20],\n",
       "                          'max_features': ['auto', 'sqrt', 'log2'],\n",
       "                          'min_samples_leaf': [1, 2, 4],\n",
       "                          'min_samples_split': [2, 3, 4, 5],\n",
       "                          'n_estimators': [10, 100, 200, 500, 1000]}],\n",
       "             return_train_score=True, scoring='accuracy')"
      ]
     },
     "execution_count": 66,
     "metadata": {},
     "output_type": "execute_result"
    }
   ],
   "source": [
    "clf=RandomForestClassifier()\n",
    "param_grid=[\n",
    "    {\"n_estimators\":[10,100,200,500,1000],\"max_depth\":[None,5,10,20],\"min_samples_split\":[2,3,4,5]}\n",
    "]\n",
    "grid_search=GridSearchCV(clf,param_grid,cv=3,scoring=\"accuracy\",return_train_score=True)\n",
    "grid_search.fit(x_data_final,y_data_final)"
   ]
  },
  {
   "cell_type": "code",
   "execution_count": 67,
   "id": "7d168aab-2367-41f0-9f24-9d5f5bd7214f",
   "metadata": {},
   "outputs": [],
   "source": [
    "final_clf=grid_search.best_estimator_"
   ]
  },
  {
   "cell_type": "code",
   "execution_count": 68,
   "id": "27cbf61c-6d52-4964-a80e-2df6989f0cee",
   "metadata": {},
   "outputs": [
    {
     "data": {
      "text/plain": [
       "RandomForestClassifier(max_depth=20, max_features='log2', min_samples_leaf=4,\n",
       "                       min_samples_split=3, n_estimators=10)"
      ]
     },
     "execution_count": 68,
     "metadata": {},
     "output_type": "execute_result"
    }
   ],
   "source": [
    "final_clf"
   ]
  },
  {
   "cell_type": "code",
   "execution_count": 69,
   "id": "08e2e5f4-bb68-46d3-9c57-71d5111d12d9",
   "metadata": {},
   "outputs": [],
   "source": [
    "titanic_test_data=pd.read_csv(\"test.csv\")"
   ]
  },
  {
   "cell_type": "code",
   "execution_count": 70,
   "id": "4e79e393-cc4e-41ed-9fde-2c1dff3f21e5",
   "metadata": {},
   "outputs": [],
   "source": [
    "final_test_data=pipeline.fit_transform(titanic_test_data)"
   ]
  },
  {
   "cell_type": "code",
   "execution_count": 71,
   "id": "2b390cd7-526d-4410-a61a-a908174672e9",
   "metadata": {},
   "outputs": [
    {
     "name": "stdout",
     "output_type": "stream",
     "text": [
      "<class 'pandas.core.frame.DataFrame'>\n",
      "RangeIndex: 418 entries, 0 to 417\n",
      "Data columns (total 11 columns):\n",
      " #   Column       Non-Null Count  Dtype  \n",
      "---  ------       --------------  -----  \n",
      " 0   PassengerId  418 non-null    int64  \n",
      " 1   Pclass       418 non-null    int64  \n",
      " 2   Age          418 non-null    float64\n",
      " 3   SibSp        418 non-null    int64  \n",
      " 4   Parch        418 non-null    int64  \n",
      " 5   Fare         417 non-null    float64\n",
      " 6   C            418 non-null    float64\n",
      " 7   S            418 non-null    float64\n",
      " 8   Q            418 non-null    float64\n",
      " 9   Female       418 non-null    float64\n",
      " 10  Male         418 non-null    float64\n",
      "dtypes: float64(7), int64(4)\n",
      "memory usage: 36.0 KB\n"
     ]
    }
   ],
   "source": [
    "final_test_data.info()"
   ]
  },
  {
   "cell_type": "code",
   "execution_count": 72,
   "id": "0e538d17-9fdb-4df2-aa6b-846ff2be11e4",
   "metadata": {},
   "outputs": [],
   "source": [
    "x_final_test=final_test_data\n",
    "x_final_test=x_final_test.fillna(method='ffill')\n",
    "scaler=StandardScaler()\n",
    "x_data_final_test=scaler.fit_transform(x_final_test)"
   ]
  },
  {
   "cell_type": "code",
   "execution_count": 73,
   "id": "f4e020c5-0ff5-4399-9ffb-12ce018b92df",
   "metadata": {},
   "outputs": [],
   "source": [
    "predictions=final_clf.predict(x_data_final_test)"
   ]
  },
  {
   "cell_type": "code",
   "execution_count": 74,
   "id": "fd3ccbd0-2fd1-4555-a0c7-3f169eeb3e9d",
   "metadata": {},
   "outputs": [],
   "source": [
    "final_df=pd.DataFrame(titanic_test_data['PassengerId'])\n",
    "final_df['Survived']=predictions\n",
    "final_df.to_csv('predictions3.csv',index=False)"
   ]
  },
  {
   "cell_type": "code",
   "execution_count": 75,
   "id": "b3358b98-093b-466b-9a2f-fdec3672450e",
   "metadata": {},
   "outputs": [
    {
     "data": {
      "text/html": [
       "<div>\n",
       "<style scoped>\n",
       "    .dataframe tbody tr th:only-of-type {\n",
       "        vertical-align: middle;\n",
       "    }\n",
       "\n",
       "    .dataframe tbody tr th {\n",
       "        vertical-align: top;\n",
       "    }\n",
       "\n",
       "    .dataframe thead th {\n",
       "        text-align: right;\n",
       "    }\n",
       "</style>\n",
       "<table border=\"1\" class=\"dataframe\">\n",
       "  <thead>\n",
       "    <tr style=\"text-align: right;\">\n",
       "      <th></th>\n",
       "      <th>PassengerId</th>\n",
       "      <th>Survived</th>\n",
       "    </tr>\n",
       "  </thead>\n",
       "  <tbody>\n",
       "    <tr>\n",
       "      <th>0</th>\n",
       "      <td>892</td>\n",
       "      <td>0</td>\n",
       "    </tr>\n",
       "    <tr>\n",
       "      <th>1</th>\n",
       "      <td>893</td>\n",
       "      <td>0</td>\n",
       "    </tr>\n",
       "    <tr>\n",
       "      <th>2</th>\n",
       "      <td>894</td>\n",
       "      <td>0</td>\n",
       "    </tr>\n",
       "    <tr>\n",
       "      <th>3</th>\n",
       "      <td>895</td>\n",
       "      <td>0</td>\n",
       "    </tr>\n",
       "    <tr>\n",
       "      <th>4</th>\n",
       "      <td>896</td>\n",
       "      <td>1</td>\n",
       "    </tr>\n",
       "    <tr>\n",
       "      <th>...</th>\n",
       "      <td>...</td>\n",
       "      <td>...</td>\n",
       "    </tr>\n",
       "    <tr>\n",
       "      <th>413</th>\n",
       "      <td>1305</td>\n",
       "      <td>0</td>\n",
       "    </tr>\n",
       "    <tr>\n",
       "      <th>414</th>\n",
       "      <td>1306</td>\n",
       "      <td>1</td>\n",
       "    </tr>\n",
       "    <tr>\n",
       "      <th>415</th>\n",
       "      <td>1307</td>\n",
       "      <td>0</td>\n",
       "    </tr>\n",
       "    <tr>\n",
       "      <th>416</th>\n",
       "      <td>1308</td>\n",
       "      <td>0</td>\n",
       "    </tr>\n",
       "    <tr>\n",
       "      <th>417</th>\n",
       "      <td>1309</td>\n",
       "      <td>0</td>\n",
       "    </tr>\n",
       "  </tbody>\n",
       "</table>\n",
       "<p>418 rows × 2 columns</p>\n",
       "</div>"
      ],
      "text/plain": [
       "     PassengerId  Survived\n",
       "0            892         0\n",
       "1            893         0\n",
       "2            894         0\n",
       "3            895         0\n",
       "4            896         1\n",
       "..           ...       ...\n",
       "413         1305         0\n",
       "414         1306         1\n",
       "415         1307         0\n",
       "416         1308         0\n",
       "417         1309         0\n",
       "\n",
       "[418 rows x 2 columns]"
      ]
     },
     "execution_count": 75,
     "metadata": {},
     "output_type": "execute_result"
    }
   ],
   "source": [
    "final_df"
   ]
  },
  {
   "cell_type": "code",
   "execution_count": null,
   "id": "36a7d8de-abbb-4805-86b7-76b2bf329836",
   "metadata": {},
   "outputs": [],
   "source": []
  }
 ],
 "metadata": {
  "kernelspec": {
   "display_name": "Python 3 (ipykernel)",
   "language": "python",
   "name": "python3"
  },
  "language_info": {
   "codemirror_mode": {
    "name": "ipython",
    "version": 3
   },
   "file_extension": ".py",
   "mimetype": "text/x-python",
   "name": "python",
   "nbconvert_exporter": "python",
   "pygments_lexer": "ipython3",
   "version": "3.9.7"
  }
 },
 "nbformat": 4,
 "nbformat_minor": 5
}
